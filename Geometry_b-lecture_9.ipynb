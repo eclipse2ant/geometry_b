{
 "cells": [
  {
   "cell_type": "markdown",
   "metadata": {},
   "source": [
    "# 接続　- U(1) case -   と　電磁気学、量子電磁力学"
   ]
  },
  {
   "cell_type": "markdown",
   "metadata": {},
   "source": [
    "- 接続ついてです。物理とのかかわりが大きい内容でもあります。まず　一番簡単な場合で話をしましょう。それは時空間$\\mathbb{R}^4 \\times \\mathbb{C}$ というlibe bundle しかも　trivial（自明） な場合です。バンドルが直積の時自明といいます。"
   ]
  },
  {
   "cell_type": "markdown",
   "metadata": {},
   "source": [
    "- このsection(断面) は　$\\mathbb{R}^4$から $\\mathbb{C}$への関数で、これは量子力学で言うところの状態関数または波動関数を表しています。各$(x,t)$上のファイバー$mathbb{C}$ は　座標の入れ方に原点の周りの回転の自由度があるとします。この回転で座標を取り換える（大抵はすべての点で一斉）操作をゲージ変換といいます。この座標の取り換えに物理法則は不変でないといけません。"
   ]
  },
  {
   "cell_type": "markdown",
   "metadata": {},
   "source": [
    "- [力とゲージ場](http://barbra-coco.dyndns.org/yuri/housou-univ/modern_physics/m_phy-12.mp3) 放送大学のラジオの講座　**「現代物理学における論理と方法」**の第12回　を聞いてください。ゲージ理論の名前の由来もわかって面白いです。これと私の書いた**Connections in the U(1) case.jpeg** を見てください。尚、放送大学の内容は少し参考資料も付けています。"
   ]
  },
  {
   "cell_type": "markdown",
   "metadata": {},
   "source": [
    "- $U(1)$をゲージ群とするないしは構造群とする直線束（今は自明）の接続が電磁気で言うところのベクトルポテンシャルとスカラーポテンシャルになり、これは電磁気学を量子化した際の光子の場を与え、これはゲージ粒子になります。つまり電磁気の力は、この素粒子（光子）がキャッチボールされることによって起こります。接続$A$から,$F=dA$で曲率形式が出て来ますが、これ自体、電磁気の電場と磁場を与えます。"
   ]
  },
  {
   "cell_type": "code",
   "execution_count": null,
   "metadata": {},
   "outputs": [],
   "source": []
  }
 ],
 "metadata": {
  "kernelspec": {
   "display_name": "Python 3",
   "language": "python",
   "name": "python3"
  },
  "language_info": {
   "codemirror_mode": {
    "name": "ipython",
    "version": 3
   },
   "file_extension": ".py",
   "mimetype": "text/x-python",
   "name": "python",
   "nbconvert_exporter": "python",
   "pygments_lexer": "ipython3",
   "version": "3.7.6"
  }
 },
 "nbformat": 4,
 "nbformat_minor": 4
}
