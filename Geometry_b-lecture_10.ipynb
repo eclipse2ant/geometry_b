{
 "cells": [
  {
   "cell_type": "markdown",
   "metadata": {},
   "source": [
    "# 物理の話"
   ]
  },
  {
   "cell_type": "markdown",
   "metadata": {},
   "source": [
    "- 今回は物理の話です。電磁気学からU(1)の場合で接続が光子の場を与えゲージ粒子の話をしました。この世界の基本的な力は4つです。　電磁気の力、これは量子電磁力学であり、化学の世界は電子のやり取りでこの枠内です。それから弱い力、強い力、そして重力です。それぞれ光子（フォトン）　ウィークボゾン　グルーオン　グラビトン　という粒子が媒介になって力が働く、これらの粒子はゲージ粒子で接続で表されます。強い力は量子色力学、そして電磁気学と弱い力を一緒に考えたワインバーグ・サラム理論ここでヒッグス場でてきます。つまりウィークボゾンはゲージ粒子で本来質量をもたないのですが、ヒッグス機構で自発的対称性の破れで質量をもつようになる。そして重力を除く三つの力を合わせたものが標準模型。ただし重力つまり古典的には一般相対性理論と量子論の統合ができなくて、ここに超弦理論などの理論が候補に出てくるわけです。"
   ]
  },
  {
   "cell_type": "code",
   "execution_count": null,
   "metadata": {},
   "outputs": [],
   "source": []
  }
 ],
 "metadata": {
  "kernelspec": {
   "display_name": "Python 3",
   "language": "python",
   "name": "python3"
  },
  "language_info": {
   "codemirror_mode": {
    "name": "ipython",
    "version": 3
   },
   "file_extension": ".py",
   "mimetype": "text/x-python",
   "name": "python",
   "nbconvert_exporter": "python",
   "pygments_lexer": "ipython3",
   "version": "3.7.6"
  }
 },
 "nbformat": 4,
 "nbformat_minor": 4
}
