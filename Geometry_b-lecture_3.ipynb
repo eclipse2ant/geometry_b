{
 "cells": [
  {
   "cell_type": "markdown",
   "metadata": {},
   "source": [
    "### 微分とは　II"
   ]
  },
  {
   "cell_type": "markdown",
   "metadata": {},
   "source": [
    "#### 接空間の定義"
   ]
  },
  {
   "cell_type": "markdown",
   "metadata": {},
   "source": [
    "- 接空間の定義は、見つかったでしょうか？　ここで少しヒントとしてまとめたものを Tangent_space-2.pdf に書いておきました。$\\mathcal{F}_p(M)$ を $M$ 上の点 $p$ を含む近傍で定義された $C^{\\infty}$-関数の集合とすると定義域の共通分上で和をとったりスカラー倍が定義できるので、線形空間になります。この線型空間から $\\mathbb{R}$ への線形写像でライプニッツルールを満たすもの全体のなす線形空間が$T_p(M)$ になります。"
   ]
  },
  {
   "cell_type": "markdown",
   "metadata": {},
   "source": [
    "#### 微分(Differencial) "
   ]
  },
  {
   "cell_type": "markdown",
   "metadata": {},
   "source": [
    "- $M, N$ を可微分多様体、$dim M =m,\\  dim N = n, \\ F: M \\longrightarrow N$ 可微分写像とすると\n",
    "点 $p \\in M$ に対して、$F$ の　$p$ においての微分(differential)"
   ]
  },
  {
   "cell_type": "markdown",
   "metadata": {},
   "source": [
    "$\\hspace{3cm} (dF)_{p} : T_{p}(M) \\ \\longrightarrow \\ T_{F(p)}(N)$"
   ]
  },
  {
   "cell_type": "markdown",
   "metadata": {},
   "source": [
    "をTangent_space-2.pdf で書いたように、$X_p \\in T{p}(M)$ に対し、$F(p)$の開近傍上で定義された関数 $f \\in \\mathcal{F}_{F(p)}(N)$を$F$で引き戻し(pull back) して$X_p$ を施してできる作用素で定義する。($\\ \\because$ この作用素は $f$ に関して線形でライプニッツルールを満たすから)"
   ]
  },
  {
   "cell_type": "markdown",
   "metadata": {},
   "source": [
    "  　、"
   ]
  },
  {
   "cell_type": "code",
   "execution_count": null,
   "metadata": {},
   "outputs": [],
   "source": []
  }
 ],
 "metadata": {
  "kernelspec": {
   "display_name": "Python 3",
   "language": "python",
   "name": "python3"
  },
  "language_info": {
   "codemirror_mode": {
    "name": "ipython",
    "version": 3
   },
   "file_extension": ".py",
   "mimetype": "text/x-python",
   "name": "python",
   "nbconvert_exporter": "python",
   "pygments_lexer": "ipython3",
   "version": "3.7.6"
  }
 },
 "nbformat": 4,
 "nbformat_minor": 4
}
