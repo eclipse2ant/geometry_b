{
 "cells": [
  {
   "cell_type": "markdown",
   "metadata": {},
   "source": [
    "### 微分とは　II"
   ]
  },
  {
   "cell_type": "markdown",
   "metadata": {},
   "source": [
    "- 接空間の定義は、見つかったでしょうか？　ここで少しヒントとしてまとめたものを Tangent_space-2.pdf に書いておきました。$\\mathcal{F}_p(M)$ を $M$ 上の点 $p$ を含む近傍で定義された $C^{\\infty}$-関数の集合とすると定義域の共通分上で和をとったりスカラー倍が定義できるので、線形空間になります。この線型空間から $\\mathbb{R}$ への線形写像でライプニッツルールを満たすもの全体のなす線形空間が$T_p(M)$ になります。"
   ]
  },
  {
   "cell_type": "markdown",
   "metadata": {},
   "source": []
  }
 ],
 "metadata": {
  "kernelspec": {
   "display_name": "Python 3",
   "language": "python",
   "name": "python3"
  },
  "language_info": {
   "codemirror_mode": {
    "name": "ipython",
    "version": 3
   },
   "file_extension": ".py",
   "mimetype": "text/x-python",
   "name": "python",
   "nbconvert_exporter": "python",
   "pygments_lexer": "ipython3",
   "version": "3.7.6"
  }
 },
 "nbformat": 4,
 "nbformat_minor": 4
}
