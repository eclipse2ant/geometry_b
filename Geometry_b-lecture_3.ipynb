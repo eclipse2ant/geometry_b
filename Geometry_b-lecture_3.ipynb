{
 "cells": [
  {
   "cell_type": "markdown",
   "metadata": {},
   "source": [
    "### 微分とは　II"
   ]
  },
  {
   "cell_type": "markdown",
   "metadata": {},
   "source": [
    "#### 接空間の定義"
   ]
  },
  {
   "cell_type": "markdown",
   "metadata": {},
   "source": [
    "- 接空間の定義は、見つかったでしょうか？　ここで少しヒントとしてまとめたものを Tangent_space-2.pdf に書いておきました。$\\mathcal{F}_p(M)$ を $M$ 上の点 $p$ を含む近傍で定義された $C^{\\infty}$-関数の集合とすると定義域の共通分上で和をとったりスカラー倍が定義できるので、線形空間になります。この線型空間から $\\mathbb{R}$ への線形写像でライプニッツルールを満たすもの全体のなす線形空間が$T_p(M)$ になります。"
   ]
  },
  {
   "cell_type": "markdown",
   "metadata": {},
   "source": [
    "#### 微分(Differencial) "
   ]
  },
  {
   "cell_type": "markdown",
   "metadata": {},
   "source": [
    "- $M, N$ を可微分多様体、$dim M =m,\\  dim N = n, \\ F: M \\longrightarrow N$ 可微分写像とすると\n",
    "点 $p \\in M$ に対して、$F$ の　$p$ においての微分(differential)"
   ]
  },
  {
   "cell_type": "markdown",
   "metadata": {},
   "source": [
    "$\\hspace{3cm} (dF)_{p} : T_{p}(M) \\ \\longrightarrow \\ T_{F(p)}(N)$"
   ]
  },
  {
   "cell_type": "markdown",
   "metadata": {},
   "source": [
    "をTangent_space-2.pdf で書いたように、$X_p \\in T{p}(M)$ に対し、$F(p)$の開近傍上で定義された関数 $f \\in \\mathcal{F}_{F(p)}(N)$を$F$で引き戻し(pull back) して$X_p$ を施してできる作用素で定義する。($\\ \\because$ この作用素は $f$ に関して線形でライプニッツルールを満たすから)"
   ]
  },
  {
   "cell_type": "markdown",
   "metadata": {},
   "source": [
    "- $L$ を$l$ 次元可微分多様体として $G: L \\longrightarrow M$ を可微分写像としたとき、$q \\in L$ に対し"
   ]
  },
  {
   "cell_type": "markdown",
   "metadata": {},
   "source": [
    "$\\hspace{3cm} (d(F\\circ G))_{q} = (dF)_{G(q)}\\circ (dG)_q$"
   ]
  },
  {
   "cell_type": "markdown",
   "metadata": {},
   "source": [
    "が成り立ちます。differential は Tangent_space-2.pdf に書いたように表現行列はヤコビ行列でうから、上の式は合成関数の微分の公式チェインルール(Chain rule)に相当します。"
   ]
  },
  {
   "cell_type": "markdown",
   "metadata": {},
   "source": [
    "- 逆関数定理は、線形近似であるdifferential が同型ならば、局所的にもとの写像も微分同型ということですから、非常に意味が分かりやすくなったと思います。陰関数定理も同様ですから、自分で調べてみてください。"
   ]
  },
  {
   "cell_type": "markdown",
   "metadata": {},
   "source": [
    "#### 接バンドル(Tangent bundles)"
   ]
  },
  {
   "cell_type": "markdown",
   "metadata": {},
   "source": [
    "ここまでで、接空間の一つ目の定義の仕方と微分について終わりました。残るは２つ目の接空間の定義です。"
   ]
  },
  {
   "cell_type": "markdown",
   "metadata": {},
   "source": [
    "- 今までは一点で接空間を考えましたが、多様体上のすべての点に接空間が張り付いてる様子を想像してください。これ自体がまた多様体になります。これを **接バンドル(Tanget bundle)** といいます。$M$ を$n$ 次元可微分多様体とすると、$T(M) = \\coprod_{p \\in M} T_{p}(M)$ で表されます。局所座標 $(U_\\alpha, \\phi_{\\alpha})$ を使えば、そこでは　接空間の基底を使って、$\\phi_\\alpha(U_\\alpha)\\times \\mathbb{R}^n$ が局所座標になり、別の局所座標とでは、座標変換とヤコビ行列で移りあいます。つまり、微分同型です。だから、局所座標は $T(M)$ に関しては既にあります。問題は位相です。$T(M)$に位相を定義しないといけません。"
   ]
  },
  {
   "cell_type": "markdown",
   "metadata": {},
   "source": [
    "- 位相空間の族 $\\{U_\\alpha\\}$ の張り合わせ条件を使います。それはあとでも使うことになるので、位相空間論の復習も兼ねてゆっくりやりたいと思います。"
   ]
  },
  {
   "cell_type": "markdown",
   "metadata": {},
   "source": [
    "- ここでは接ベクトルを微分作用素で与えてから接バンドルを定義しましたが、Steenrodの構成定理から定義して接バンドルを定義する方法がもう一つの定義になります。"
   ]
  },
  {
   "cell_type": "code",
   "execution_count": null,
   "metadata": {},
   "outputs": [],
   "source": []
  }
 ],
 "metadata": {
  "kernelspec": {
   "display_name": "Python 3",
   "language": "python",
   "name": "python3"
  },
  "language_info": {
   "codemirror_mode": {
    "name": "ipython",
    "version": 3
   },
   "file_extension": ".py",
   "mimetype": "text/x-python",
   "name": "python",
   "nbconvert_exporter": "python",
   "pygments_lexer": "ipython3",
   "version": "3.7.6"
  }
 },
 "nbformat": 4,
 "nbformat_minor": 4
}
