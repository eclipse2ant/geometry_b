{
 "cells": [
  {
   "cell_type": "markdown",
   "metadata": {},
   "source": [
    "# 多様体の例"
   ]
  },
  {
   "cell_type": "markdown",
   "metadata": {},
   "source": [
    "- 線形空間や位相空間と同様に抽象的ですよね。なぜ抽象的に考えるかについては、線形代数の時にかなり学んでいると思います。ベクトルの集まりからはじまり、その抽象化として線形空間が定義されますが、例えば線形空間$ V$ から線形空間 $W$ への線形写像全体の空間 $End(V,W)$ も線形空間になったのでしたね。これはある場合には $V^{*}\\otimes W$ と表されたのでした。（$V^*$ は＄V$ 双対空間）"
   ]
  },
  {
   "cell_type": "markdown",
   "metadata": {},
   "source": [
    "- 幾何学で重要なことはいくつかあります。その一つに、モジュライがあります。多様体はもともと、曲面などの概念の一般化にあたります。曲面たちをあつめたらどうなるか。曲面の集合はまた多様体となります。例えば、ポアンカレ予想に使われてる、ハミルトン流（flow) は　多様体上の曲線です。でも多様体上の点は一つの多様体を表してますから、多様体の変化するさまを表している曲線といえるでしょう。このように抽象化することによって、いろんな可能性が広がるのです。"
   ]
  },
  {
   "cell_type": "markdown",
   "metadata": {},
   "source": [
    "- 別の例を揚げましょう。有限次元線形空間 $V$ のある次元を固定した部分線形空間全体、例えば $\\dim V = n$ として $m < n$ として $m$ 次元部分線形空間全体からなる空間は　多様体になります。グラスマン多様体といいます。\n"
   ]
  },
  {
   "cell_type": "markdown",
   "metadata": {},
   "source": [
    "- 多様体の定義において、注意委してほしいのは、局所座標どうしを結ぶ座標変換関数です。言ってる意味はあちらの座標でのこの点の表示をこちら側の座標の表示の内容を使って表示したらという意味ですよね。こちらの$x$は　あちらでは$x^3+1$ になってるという感じです。こういう表示の関係を表す方法がいつでも共通なので覚えておいてください。"
   ]
  },
  {
   "cell_type": "markdown",
   "metadata": {},
   "source": [
    "#  接空間(Tangent Space)"
   ]
  },
  {
   "cell_type": "markdown",
   "metadata": {},
   "source": [
    "### 微分とは"
   ]
  },
  {
   "cell_type": "markdown",
   "metadata": {},
   "source": [
    "- まず $f: {\\mathbb R}  \\longrightarrow {\\mathbb R}$ が微分可能であるとき、$x_0$での微分について考えてみよう。微分とは、$(x_0,f(x_0))$ で接線を引くことです。この傾きが微分係数です。　Tangent_space.pdf　の(a) を見てください。その接線とは、線形写像で、微分とは線形写像で近似することです。これを(b)のように描き直してみましょう。(b)におけるピンクの線は、$x_0, f(x_0)$ のそれぞれの点で${\\mathbb R}$を新たに設けてそこで(a)においての1次関数（つまり線形写像）を描いてます。このピンクの線はそれぞれの点における ${\\mathbb R}$ の **接空間** といい、それぞれ $T_{x_0}({\\mathbb R}),\\  T_{f(x_0)}({\\mathbb R})$ と表します。"
   ]
  },
  {
   "cell_type": "markdown",
   "metadata": {},
   "source": [
    "- $f: {\\mathbb R}^2  \\longrightarrow {\\mathbb R}^2$  のときを考えてみましょう。(c) でのピンクの線は、それぞれ ${\\mathbb R}^2$ になります。 ${\\mathbb R}^2$  の $x_0$ での接空間ですからね。\n",
    "ピンクの線は、$x_0, f(x_0)$ のそれぞれの点での **ファイバー(fiber)** といいます。"
   ]
  },
  {
   "cell_type": "code",
   "execution_count": null,
   "metadata": {},
   "outputs": [],
   "source": []
  }
 ],
 "metadata": {
  "kernelspec": {
   "display_name": "Python 3",
   "language": "python",
   "name": "python3"
  },
  "language_info": {
   "codemirror_mode": {
    "name": "ipython",
    "version": 3
   },
   "file_extension": ".py",
   "mimetype": "text/x-python",
   "name": "python",
   "nbconvert_exporter": "python",
   "pygments_lexer": "ipython3",
   "version": "3.7.6"
  }
 },
 "nbformat": 4,
 "nbformat_minor": 4
}
