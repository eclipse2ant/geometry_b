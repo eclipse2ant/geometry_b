{
 "cells": [
  {
   "cell_type": "markdown",
   "metadata": {},
   "source": [
    "# はじめに\n",
    "これから、線形代数についてオンライン授業で行います。オンライン授業で授業するのは、初めでですので、何分不手際もあるると思いますがよろしくお願いします。 　"
   ]
  },
  {
   "cell_type": "markdown",
   "metadata": {},
   "source": [
    "# 授業の進め方\n",
    "授業はオンライン反転授業という形で行いたいと思います。従来の反転授業は、用意されたビデオなどをあらかじめ学習して課題を解いたり、議論したりというやり方ですが、ここではビデオは用意しません、私が用意しなくても、ネット上にいろいろなビデオアや情報は転がっています。それらを検索して、必要な情報を見つけてください。こちらからは、調べてほしい内容を指示します。それらについて自分でネットまたは本などで調べてもらい、レポートを提出してもらいます。それと小テスト、これがGoogle Form で選択肢から選んでもらう小テストを提出してもらいます。"
   ]
  },
  {
   "cell_type": "markdown",
   "metadata": {},
   "source": [
    "## 学んでほしいこと"
   ]
  },
  {
   "cell_type": "markdown",
   "metadata": {},
   "source": [
    "#### 1.Google Classroom."
   ]
  },
  {
   "cell_type": "markdown",
   "metadata": {},
   "source": [
    "- この大学の他の授業でもそうですが、Google Classroomを用いて行っています。これからあなたたちが、社会に出て行って、学校や会社に勤めたりしても。自分自身でオンラインで授業したり、研修会を実施したり、参加したりすることが予想されます。コロナによって、世界中がオンラインでの実施の可能性に目覚めて、アフターコロナ後も普及すると考えられます。その意味で、Google Classroom に慣れておくことは重要です。"
   ]
  },
  {
   "cell_type": "markdown",
   "metadata": {},
   "source": [
    "- 自分でクラスを作ってみる. ---- Google Classroom に早くなれるコツはご自分でClassroom を作ってみることです。これにはまず自分のGmailのアカウントが必要になります。これはすでにタブレットやスマホの関係ですでに持ってる人もいれば、いない人もいると思いますが、Gmailアカウントは簡単に作れます。ここで注意してほしいのは、大学で行われてるGoogle　ClassroomのアカウントはG Suit　という大学で一括管理されているアカウントなので、このアカウントでもClassroom を作るかとは可能かもしれませんが、これは一括管理されているので、これとは別の個人のGoogle　アカウントで行ってください。"
   ]
  },
  {
   "cell_type": "markdown",
   "metadata": {},
   "source": [
    "#### 2.検索する技術."
   ]
  },
  {
   "cell_type": "markdown",
   "metadata": {},
   "source": [
    "- インターネット上で自分の知りたい内容をさがす技術を身に着けてください。「Webで知る」--Web情報検索入門--　 k角谷和俊著　サイエンス社　など、Webの検索エンジンの仕組みを簡単に説明した本とかも出ています。いろいろ検索のノウハウを学ぶことは、これからのデジタル社会で非常に役立ちます。またスクレーピングといった技術やプログラミングで自動化する術も身に着けるとこれから非常に役立つと思います。授業の中でPythonのことについても触れていきたいと思っています。実際にはPython単体をインストールするよりもAnacondaをインストールしたほうが何かと便利です。"
   ]
  },
  {
   "cell_type": "markdown",
   "metadata": {},
   "source": [
    "#### 3.現代数学における幾何学"
   ]
  },
  {
   "cell_type": "code",
   "execution_count": null,
   "metadata": {},
   "outputs": [],
   "source": [
    "- "
   ]
  }
 ],
 "metadata": {
  "kernelspec": {
   "display_name": "Python 3",
   "language": "python",
   "name": "python3"
  },
  "language_info": {
   "codemirror_mode": {
    "name": "ipython",
    "version": 3
   },
   "file_extension": ".py",
   "mimetype": "text/x-python",
   "name": "python",
   "nbconvert_exporter": "python",
   "pygments_lexer": "ipython3",
   "version": "3.7.6"
  }
 },
 "nbformat": 4,
 "nbformat_minor": 4
}
