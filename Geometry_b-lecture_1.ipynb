{
  "nbformat": 4,
  "nbformat_minor": 0,
  "metadata": {
    "kernelspec": {
      "display_name": "Python 3",
      "language": "python",
      "name": "python3"
    },
    "language_info": {
      "codemirror_mode": {
        "name": "ipython",
        "version": 3
      },
      "file_extension": ".py",
      "mimetype": "text/x-python",
      "name": "python",
      "nbconvert_exporter": "python",
      "pygments_lexer": "ipython3",
      "version": "3.7.6"
    },
    "colab": {
      "name": "Geometry_b-lecture_1.ipynb",
      "provenance": [],
      "include_colab_link": true
    }
  },
  "cells": [
    {
      "cell_type": "markdown",
      "metadata": {
        "id": "view-in-github",
        "colab_type": "text"
      },
      "source": [
        "<a href=\"https://colab.research.google.com/github/eclipse2ant/geometry_b/blob/master/Geometry_b-lecture_1.ipynb\" target=\"_parent\"><img src=\"https://colab.research.google.com/assets/colab-badge.svg\" alt=\"Open In Colab\"/></a>"
      ]
    },
    {
      "cell_type": "markdown",
      "metadata": {
        "id": "tp6leV2QE8qv"
      },
      "source": [
        "# はじめに\n",
        "これから、幾何学Bについてオンライン授業で行います。オンライン授業で授業するのは、初めでですので、何分不手際もあるると思いますがよろしくお願いします。 　"
      ]
    },
    {
      "cell_type": "markdown",
      "metadata": {
        "id": "3c0VQK5WE8qy"
      },
      "source": [
        "# 授業の進め方\n",
        "授業はオンライン反転授業という形で行いたいと思います。従来の反転授業は、用意されたビデオなどをあらかじめ学習して課題を解いたり、議論したりというやり方ですが、ここではビデオは用意しません、私が用意しなくても、ネット上にいろいろなビデオアや情報は転がっています。それらを検索して、必要な情報を見つけてください。こちらからは、調べてほしい内容を指示します。それらについて自分でネットまたは本などで調べてもらい、レポートを提出してもらいます。それと小テスト、これがGoogle Form で選択肢から選んでもらう小テストを提出してもらいます。"
      ]
    },
    {
      "cell_type": "markdown",
      "metadata": {
        "id": "6PFuezlVE8qy"
      },
      "source": [
        "## 学んでほしいこと"
      ]
    },
    {
      "cell_type": "markdown",
      "metadata": {
        "id": "8eVSSe6sE8qy"
      },
      "source": [
        "#### 1.Google Classroom."
      ]
    },
    {
      "cell_type": "markdown",
      "metadata": {
        "id": "7vm1S27jE8qz"
      },
      "source": [
        "- この大学の他の授業でもそうですが、Google Classroomを用いて行っています。これからあなたたちが、社会に出て行って、学校や会社に勤めたりしても。自分自身でオンラインで授業したり、研修会を実施したり、参加したりすることが予想されます。コロナによって、世界中がオンラインでの実施の可能性に目覚めて、アフターコロナ後も普及すると考えられます。その意味で、Google Classroom に慣れておくことは重要です。"
      ]
    },
    {
      "cell_type": "markdown",
      "metadata": {
        "id": "YP7_M6H0E8qz"
      },
      "source": [
        "- 自分でクラスを作ってみる. ---- Google Classroom に早くなれるコツはご自分でClassroom を作ってみることです。これにはまず自分のGmailのアカウントが必要になります。これはすでにタブレットやスマホの関係ですでに持ってる人もいれば、いない人もいると思いますが、Gmailアカウントは簡単に作れます。ここで注意してほしいのは、大学で行われてるGoogle　ClassroomのアカウントはG Suit　という大学で一括管理されているアカウントなので、このアカウントでもClassroom を作るかとは可能かもしれませんが、これは一括管理されているので、これとは別の個人のGoogle　アカウントで行ってください。"
      ]
    },
    {
      "cell_type": "markdown",
      "metadata": {
        "id": "wPf4hWNfE8qz"
      },
      "source": [
        "#### 2.検索する技術."
      ]
    },
    {
      "cell_type": "markdown",
      "metadata": {
        "id": "vXFSh-abE8q0"
      },
      "source": [
        "- インターネット上で自分の知りたい内容をさがす技術を身に着けてください。「Webで知る」--Web情報検索入門--　 k角谷和俊著　サイエンス社　など、Webの検索エンジンの仕組みを簡単に説明した本とかも出ています。いろいろ検索のノウハウを学ぶことは、これからのデジタル社会で非常に役立ちます。またスクレーピングといった技術やプログラミングで自動化する術も身に着けるとこれから非常に役立つと思います。授業の中でPythonのことについても触れていきたいと思っています。実際にはPython単体をインストールするよりもAnacondaをインストールしたほうが何かと便利です。"
      ]
    },
    {
      "cell_type": "markdown",
      "metadata": {
        "id": "xwXnfXfJFvup"
      },
      "source": [
        "#### 3.データ分析、データ処理の自動化、Cloud環境、Python, GAS\n"
      ]
    },
    {
      "cell_type": "markdown",
      "metadata": {
        "id": "sEmEAUXvGb7B"
      },
      "source": [
        "- 近年、Excel等のの処理の自動化、すなわちRPA（Robotonic Process Automation)が騒がれてます。特にPythonのライブラリーであるPandasやopenpyxl を使ったExcelの処理の自動化やSeleniumやBeatifusoup4を使ったWeb操作の自動化やスクレイピングがいろんなところで解説されてます。それらの操作を身につけることやCloud環境に慣れることでGoogle ClassrommやGoogle Colaboratoryを使えるようになることは、オンライン教育を行っていく上で貴重な武器になると思います。ぜひともこの時期にこれらのツールに強くなってください。"
      ]
    },
    {
      "cell_type": "markdown",
      "metadata": {
        "id": "y0mXfg0sE8q0"
      },
      "source": [
        "#### 4.現代数学における幾何学"
      ]
    },
    {
      "cell_type": "markdown",
      "metadata": {
        "id": "4DvV9HuiE8q1"
      },
      "source": [
        "- この講義では、多様体について学びますが、もっと広く幾何学そのものについても、学んでいきます。大学で学ぶ幾何学はそれまで高校までで、学んできた幾何学とは別物だと思ってください。私自身、大学で幾何学に触れるまで、幾何学って嫌いでした。高校までの幾何は退屈でした。大学にはいって幾何学とは全く別物だと知り一気に興味を持つようになりました。"
      ]
    },
    {
      "cell_type": "markdown",
      "metadata": {
        "id": "D8Ui-_HoE8q1"
      },
      "source": [
        "- 代数幾何学　数論幾何学　トポロジー　ゲージ理論　超弦理論　代数的K理論　ホモトピー理論　等々多くの話題を幾何学は提供してくれます。　もっと基本的な概念としては、接続、ファイバーバンドルないしはベクターバンドル、モジュライ、層、コホモロジー、スキーム、スタック　等々いろんな概念があります。"
      ]
    },
    {
      "cell_type": "markdown",
      "metadata": {
        "id": "ShKq48rBE8q1"
      },
      "source": [
        "- 多様体論はそれらを学ぶ第一歩となるでしょうか。ここでは線形代数、微積分、位相空間論がすべて使われます。これら３つの分野の理解がさらに深まると思います。また　df や　dx といった記号に意味がつきます。いわゆる微分形式です。数学の幅が一気に広がると思います。その意味でも有意義な時になると思います。"
      ]
    },
    {
      "cell_type": "markdown",
      "metadata": {
        "id": "xnLLYJoKE8q2"
      },
      "source": [
        "# 多様体の定義"
      ]
    },
    {
      "cell_type": "markdown",
      "metadata": {
        "id": "7WQTZ93iE8q2"
      },
      "source": [
        "- さてまず、多様体の定義について、ネットや本で調べてください。かなり抽象的で無味乾燥なので、驚くかもしれません。線形空間の時に受けた印象と同じような印象を受けるかもしれませんね。ここでは、線形空間の時のことを参考にして、多様体の定義について考えてみたいと思います。"
      ]
    },
    {
      "cell_type": "code",
      "metadata": {
        "id": "xYHxKTJKE8q2"
      },
      "source": [
        ""
      ],
      "execution_count": null,
      "outputs": []
    }
  ]
}