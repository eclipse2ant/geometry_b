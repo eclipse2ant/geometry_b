{
 "cells": [
  {
   "cell_type": "markdown",
   "metadata": {},
   "source": [
    "# 微分形式"
   ]
  },
  {
   "cell_type": "markdown",
   "metadata": {},
   "source": [
    "- 微分形式について導入の部分を **Differential_forms.pdf** に書きましたので、そちらを見てください。"
   ]
  },
  {
   "cell_type": "markdown",
   "metadata": {},
   "source": [
    "- $dx,\\ df$ が意味を持ってきます。外微分作用素 $d$ について　一般に　$d\\circ d=0$ が成り立ちます。Globalな場合の定義式はご自分で調べてください。あとこれを使ってドラーム複体そしてドラーム・コホモロジーが定義できます。 "
   ]
  },
  {
   "cell_type": "markdown",
   "metadata": {},
   "source": [
    "- 多様体次元の最高次数の微分形式は　スカラーになりますが、これは体積形式といわれるように、積分と関係します。これはつぎの回で行う、多様体上の積分、およびストークスの定理と関わってきます。"
   ]
  },
  {
   "cell_type": "code",
   "execution_count": null,
   "metadata": {},
   "outputs": [],
   "source": [
    "\n"
   ]
  }
 ],
 "metadata": {
  "kernelspec": {
   "display_name": "Python 3",
   "language": "python",
   "name": "python3"
  },
  "language_info": {
   "codemirror_mode": {
    "name": "ipython",
    "version": 3
   },
   "file_extension": ".py",
   "mimetype": "text/x-python",
   "name": "python",
   "nbconvert_exporter": "python",
   "pygments_lexer": "ipython3",
   "version": "3.7.6"
  }
 },
 "nbformat": 4,
 "nbformat_minor": 4
}
