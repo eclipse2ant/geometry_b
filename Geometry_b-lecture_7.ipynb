{
 "cells": [
  {
   "cell_type": "markdown",
   "metadata": {},
   "source": [
    "# 多様体上の積分"
   ]
  },
  {
   "cell_type": "markdown",
   "metadata": {},
   "source": [
    "- 多様体で積分を定義するためには、座標はいるように分割して足し合わせることと座標を使って定義せざる得ませんが、座標を使ってもどの座標を使って出した結果も同じなる必要がある。"
   ]
  },
  {
   "cell_type": "markdown",
   "metadata": {},
   "source": [
    "- ユークリッド空間の場合　$n$ 次元の時、$dx_1\\cdots dx_n$ 付けていたがこれが実際意味を持つ、つまり $dx_ 1\\wedge dx_2\\cdots \\wedge dx_n$ とみて、$n$次交代形式の積分と考えます。"
   ]
  },
  {
   "cell_type": "markdown",
   "metadata": {},
   "source": [
    "- まず分割の部分は **1の分割** をつかいます。従ってこれを調べてください。座標によらないためには、多様体は幹付け可能でなければいけません。詳しくは調べてほしいですが。座標を使って積分を定義した際、違う座標との関係は、居所座標の$dx_ 1\\wedge dx_2\\cdots \\wedge dx_n$ と $dy_ 1\\wedge dy_2\\cdots \\wedge dy_n$ の関係は、座標変換関数のヤコビ行列のdeterminant がでてきます。くわしくは微分形式の引き戻し(pull-back) についてみてください。向き付け可能なら、この行列式は正にとれます。そうすると絶対値とったことと同じですから、置換積分の変換公式になって、積分は同じ値を与えます。"
   ]
  },
  {
   "cell_type": "markdown",
   "metadata": {},
   "source": [
    "### 面積分や線積分"
   ]
  },
  {
   "cell_type": "markdown",
   "metadata": {},
   "source": [
    "- これを定義するには特異チェインの知識が必要です。普通は特異ホモロジーを定義するためにつかいますが、この辺は本では参考文献の村上著が詳しいです。$p$次特異チェイン上では$p$次微分形式の積分が定義できます。実際に特異チェイン側に微分形式を引き戻した際の形が面積分や線積分になっています。ここで微積で学んだ重責分のガウスの公式やストークスの公式は、微分形式の積分のストークスの定理としてきれいな形で定式化されます。"
   ]
  },
  {
   "cell_type": "markdown",
   "metadata": {},
   "source": [
    "### Maxwell方程式"
   ]
  },
  {
   "cell_type": "markdown",
   "metadata": {},
   "source": [
    "- 放送大学の場と時間空間の物理"
   ]
  },
  {
   "cell_type": "code",
   "execution_count": null,
   "metadata": {},
   "outputs": [],
   "source": []
  }
 ],
 "metadata": {
  "kernelspec": {
   "display_name": "Python 3",
   "language": "python",
   "name": "python3"
  },
  "language_info": {
   "codemirror_mode": {
    "name": "ipython",
    "version": 3
   },
   "file_extension": ".py",
   "mimetype": "text/x-python",
   "name": "python",
   "nbconvert_exporter": "python",
   "pygments_lexer": "ipython3",
   "version": "3.7.6"
  }
 },
 "nbformat": 4,
 "nbformat_minor": 4
}
