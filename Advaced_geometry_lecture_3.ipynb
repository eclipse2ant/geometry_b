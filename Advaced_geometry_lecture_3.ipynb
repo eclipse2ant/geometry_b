{
  "nbformat": 4,
  "nbformat_minor": 0,
  "metadata": {
    "colab": {
      "name": "Advaced_geometry-lecture_3.ipynb",
      "provenance": [],
      "toc_visible": true,
      "authorship_tag": "ABX9TyPjZoWfxin/i7VbgIJ9J/Tr",
      "include_colab_link": true
    },
    "kernelspec": {
      "name": "python3",
      "display_name": "Python 3"
    },
    "language_info": {
      "name": "python"
    }
  },
  "cells": [
    {
      "cell_type": "markdown",
      "metadata": {
        "id": "view-in-github",
        "colab_type": "text"
      },
      "source": [
        "<a href=\"https://colab.research.google.com/github/eclipse2ant/geometry_b/blob/master/Advaced_geometry_lecture_3.ipynb\" target=\"_parent\"><img src=\"https://colab.research.google.com/assets/colab-badge.svg\" alt=\"Open In Colab\"/></a>"
      ]
    },
    {
      "cell_type": "markdown",
      "metadata": {
        "id": "WQEEp8XsvGLu"
      },
      "source": [
        "## 1.2.層"
      ]
    },
    {
      "cell_type": "markdown",
      "metadata": {
        "id": "xpkM1wSivWi4"
      },
      "source": [
        "- 層の概念は関数の概念をカテゴリー化したものと言えるでしょう。スキームを定義する際に必要なのでここで軽く触れましょう。　層(Sheaf)について調べてください。\n"
      ]
    },
    {
      "cell_type": "markdown",
      "metadata": {
        "id": "suwmi0cdVhhh"
      },
      "source": [
        "## 1.3.アフィン・スキーム"
      ]
    },
    {
      "cell_type": "markdown",
      "metadata": {
        "id": "_NviobqY-7Lw"
      },
      "source": [
        "### 1.3.1. 解析的な世界と代数的な世界"
      ]
    },
    {
      "cell_type": "markdown",
      "metadata": {
        "id": "HeQl7mJU6AZX"
      },
      "source": [
        "- 幾何学というか数学において、重要な概念として位相がありますが、位相は解析的な位相と代数的な位相に大きく分かれます。もともと位相は、実数の $\\epsilon-\\delta$ 論法のような極限の話から、一般化されてきました。ただ位相とは、極限というわけではなく、連続性、これもありますが一番普遍的な考え方はlocal-global の考とえ方つまり層ではないかと思います。まずハウスドルフの公理を満たさないザリスキー位相が代数幾何では使われます。だから微分幾何、位相幾何、微分位相幾何学あたりは通常のユークリッド空間の延長の位相でハウスドルフ空間ですが、代数幾何とかの代数的なものの見方をする世界では、ザリスキー位相、さらにエタール位相のようなグロタンディック位相が出てたりと、更にはモチーフや混合モリーフとか多様化していきます。\n",
        "- ホモトピー論で扱う位相空間はコンパクト生成空間でハウスドルフ空間です。でもホモトピー論を他の代数的な位相に適用する話は今度はホモトピー論のカテゴリー化によってモデル圏として使われていきます。例えば$A^1-$ホモトピーやモチビック・コホモロジーを使ってVoebodsky　はミルナー予想を解決しました。\n",
        "- ここでは、代数的な位相の世界の一端として一番基礎になるアフィン・スキームについて触れていきます。"
      ]
    },
    {
      "cell_type": "markdown",
      "metadata": {
        "id": "O8os00b-EyY7"
      },
      "source": [
        "### 1.3.2.数論幾何入門"
      ]
    },
    {
      "cell_type": "markdown",
      "metadata": {
        "id": "TmVAsk4BHegG"
      },
      "source": [
        "-アンドレ・ヴェイユは数論を代数幾何的に解くことを考えました。それを実現していったのが、グロタンディックのスキームです。\n",
        "- 有理整数環 $\\mathbb{Z}$ と複素係数$1$変数多項式環 $\\mathbb{C}[X]$ の共通点について調べてください。"
      ]
    }
  ]
}