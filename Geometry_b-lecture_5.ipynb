{
 "cells": [
  {
   "cell_type": "markdown",
   "metadata": {},
   "source": [
    "# 接バンドル（Tanget bundles)、断面（Sections)"
   ]
  },
  {
   "cell_type": "markdown",
   "metadata": {},
   "source": [
    "- 前回において、接空間を定義しました。Tanget_bundles_and_sections.pdf に書いたように、局所座標においては、$U_i$ と $\\mathbb{R}^n$ の直積で表され、局所座標の共通部分 $U_i \\cap U_j$ 上で定義された $GL(n,\\mathbb{R})$ 値の微分可能写像で Tanget_bundles_and_sections.pdf に書いた二つの条件(Cocucle condtion という）を満たします。このような　写像を**変換関数(Transition function)**といいます。今の場合は具体的に座標変換関数のヤコビ行列が値としてとられてます。逆にcocycle condition を満たす関数を与えれば、それによって位相空間の張り合わせを行って、バンドルを構成することができます。これをべくトル束とかベクトル・バンドル（Vectir bundle）といいます。これについては、また触れます。\n",
    "\n",
    "\n",
    "\n"
   ]
  },
  {
   "cell_type": "markdown",
   "metadata": {},
   "source": [
    "- Tanget_bundles_and_sections.pdf に書いたように、断面を考えると、多様体$M$上のベクトル場が定義できます。例えば、$M=S^2$ として2次元球面とすれば、地球のある瞬間の風の流れの速度ベクトルを記述したことになります。時間で動かすには直積多様体 $\\mathbb{R} \\times M$ から $T(M)$ への微分可能写像$X$で、$\\pi\\circ X = Pr$ （ただし、$Pr$ は、$\\mathbb{R} \\times M$ から $M$ へ射影）とすれば、時間で動く速度ベクトル場を記述できる。さらに今後行う、$Pr$ による引き戻し(pull-back)を行えば、$\\ {Pr}^* (T(M))$ は、$\\mathbb{R} \\times M$ 上のベクトル束になり、その断面として、時間で動くベクトル場を記述できる。\n"
   ]
  },
  {
   "cell_type": "markdown",
   "metadata": {},
   "source": [
    "# 余接バンドル（Cotangent bundles)"
   ]
  },
  {
   "cell_type": "markdown",
   "metadata": {},
   "source": [
    "- Transition functionで、座標変換関数ヤコビ行列の転置の逆行列を与えた場合、多様体のファイバーとして接空間ではなくて、接空間の双対空間つまり余接空間$T^{*}_{x}(M)$ を与えたことになる。双対基底の変換則を思い出そう。このベクトル束のことを余接束あるいは余接バンドル（Cotangent bundle）という。"
   ]
  },
  {
   "cell_type": "markdown",
   "metadata": {},
   "source": [
    "- $T^*(M)$ の断面として、$df$ とか $dx$ いった記号が正当化される。いよいよ微分形式（differential form）のはなしである。そのためには双対空間やテンソル積、交代積や外微分作用素 $d$ などについて、復習していかないといけない。"
   ]
  },
  {
   "cell_type": "code",
   "execution_count": null,
   "metadata": {},
   "outputs": [],
   "source": []
  }
 ],
 "metadata": {
  "kernelspec": {
   "display_name": "Python 3",
   "language": "python",
   "name": "python3"
  },
  "language_info": {
   "codemirror_mode": {
    "name": "ipython",
    "version": 3
   },
   "file_extension": ".py",
   "mimetype": "text/x-python",
   "name": "python",
   "nbconvert_exporter": "python",
   "pygments_lexer": "ipython3",
   "version": "3.7.10"
  }
 },
 "nbformat": 4,
 "nbformat_minor": 4
}
