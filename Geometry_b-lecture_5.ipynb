{
 "cells": [
  {
   "cell_type": "markdown",
   "metadata": {},
   "source": [
    "# 接空間（Tanget bundles)、断面（Sections)"
   ]
  },
  {
   "cell_type": "markdown",
   "metadata": {},
   "source": [
    "- 前回において、接空間を定義しました。Tanget_bundles_and_sections.pdf に書いたように、局所座用においては、$U_\\alpha$ と $\\mathbb{R}^n$ の直積で表され、局所座標の共通部分 $U_\\alpha \\cap U_\\beta$ 上で定義された $GL(n,\\mathbb{R})$ 値の微分可能写像で Tanget_bundles_and_sections.pdf に書いた二つの条件(Cocucle condtion という）を満たします。このような　写像を**変換関数**といいます。今の場合は具体的に座標変換関数のヤコビ行列が合値としてとられてます。逆にcocycle condition を満たす関数を与えれば、それによって位相空間の張り合わせを行って、バンドルを構成することができます。これをべくトル束とかベクトル・バンドル（Vectir bundle）といいます。これについては、また触れます。\n",
    "\n",
    "\n",
    "\n"
   ]
  },
  {
   "cell_type": "markdown",
   "metadata": {},
   "source": [
    "- Tanget_bundles_and_sections.pdf に書いたように、断面を考えると、多様体$M$上のベクトル場が定義できます。例えば、$M=S^2$ として2次元球面とすれば、地球のある瞬間の風の流れの速度ベクトルを記述したことになります。時間で動かすには　\n"
   ]
  },
  {
   "cell_type": "code",
   "execution_count": null,
   "metadata": {},
   "outputs": [],
   "source": []
  }
 ],
 "metadata": {
  "kernelspec": {
   "display_name": "Python 3",
   "language": "python",
   "name": "python3"
  },
  "language_info": {
   "codemirror_mode": {
    "name": "ipython",
    "version": 3
   },
   "file_extension": ".py",
   "mimetype": "text/x-python",
   "name": "python",
   "nbconvert_exporter": "python",
   "pygments_lexer": "ipython3",
   "version": "3.7.6"
  }
 },
 "nbformat": 4,
 "nbformat_minor": 4
}
